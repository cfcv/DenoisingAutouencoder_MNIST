{
 "cells": [
  {
   "cell_type": "markdown",
   "metadata": {},
   "source": [
    "# Building an Denoising Autoencoder in Keras for MNIST "
   ]
  },
  {
   "cell_type": "markdown",
   "metadata": {},
   "source": [
    "## Importing the MNIST dataset "
   ]
  },
  {
   "cell_type": "code",
   "execution_count": 2,
   "metadata": {},
   "outputs": [
    {
     "name": "stderr",
     "output_type": "stream",
     "text": [
      "Using TensorFlow backend.\n"
     ]
    }
   ],
   "source": [
    "from keras.datasets import mnist\n",
    "import numpy as np\n",
    "(x_train, y_train), (x_test, y_test) = mnist.load_data()"
   ]
  },
  {
   "cell_type": "markdown",
   "metadata": {},
   "source": [
    "## Adding noise to the input "
   ]
  },
  {
   "cell_type": "code",
   "execution_count": 3,
   "metadata": {},
   "outputs": [],
   "source": [
    "\n",
    "#input keras CNN accept only 4d tensors\n",
    "x_train = x_train.reshape(x_train.shape[0], 28, 28, 1).astype('float32')\n",
    "x_test = x_test.reshape(x_test.shape[0], 28, 28, 1).astype('float32')\n",
    "x_train /= 255\n",
    "x_test /= 255\n",
    "\n",
    "noise_factor = 0.5\n",
    "x_train_noisy = x_train + noise_factor * np.random.normal(loc=0.0, scale=1.0, size=x_train.shape)\n",
    "x_test_noisy = x_test + noise_factor * np.random.normal(loc=0.0, scale=1.0, size=x_test.shape)\n",
    "\n",
    "x_train_noisy = np.clip(x_train_noisy, 0., 1.)\n",
    "x_test_noisy = np.clip(x_test_noisy, 0., 1.)\n",
    "\n"
   ]
  },
  {
   "cell_type": "code",
   "execution_count": 7,
   "metadata": {},
   "outputs": [
    {
     "data": {
      "image/png": "[encoded data removed]",
      "text/plain": [
       "<Figure size 720x720 with 3 Axes>"
      ]
     },
     "metadata": {
      "needs_background": "light"
     },
     "output_type": "display_data"
    }
   ],
   "source": [
    "import matplotlib.pyplot as plt\n",
    "\n",
    "fig = plt.figure(figsize=(10,10))\n",
    "\n",
    "for i in range(3):\n",
    "    ax = fig.add_subplot(1, 3, i+1)\n",
    "    ax.imshow(x_train_noisy[i].reshape((28,28)), cmap='gray')"
   ]
  },
  {
   "cell_type": "markdown",
   "metadata": {},
   "source": [
    "## Defining the model "
   ]
  },
  {
   "cell_type": "code",
   "execution_count": 8,
   "metadata": {},
   "outputs": [
    {
     "name": "stdout",
     "output_type": "stream",
     "text": [
      "WARNING:tensorflow:From /home/cfcv/Tensorflow/ML/local/lib/python3.5/site-packages/keras/backend/tensorflow_backend.py:1123: calling reduce_mean (from tensorflow.python.ops.math_ops) with keep_dims is deprecated and will be removed in a future version.\n",
      "Instructions for updating:\n",
      "keep_dims is deprecated, use keepdims instead\n",
      "_________________________________________________________________\n",
      "Layer (type)                 Output Shape              Param #   \n",
      "=================================================================\n",
      "input_1 (InputLayer)         (None, 28, 28, 1)         0         \n",
      "_________________________________________________________________\n",
      "conv2d_1 (Conv2D)            (None, 24, 24, 10)        260       \n",
      "_________________________________________________________________\n",
      "max_pooling2d_1 (MaxPooling2 (None, 12, 12, 10)        0         \n",
      "_________________________________________________________________\n",
      "conv2d_2 (Conv2D)            (None, 11, 11, 20)        820       \n",
      "_________________________________________________________________\n",
      "max_pooling2d_2 (MaxPooling2 (None, 5, 5, 20)          0         \n",
      "_________________________________________________________________\n",
      "up_sampling2d_1 (UpSampling2 (None, 10, 10, 20)        0         \n",
      "_________________________________________________________________\n",
      "conv2d_transpose_1 (Conv2DTr (None, 11, 11, 20)        1620      \n",
      "_________________________________________________________________\n",
      "up_sampling2d_2 (UpSampling2 (None, 22, 22, 20)        0         \n",
      "_________________________________________________________________\n",
      "conv2d_transpose_2 (Conv2DTr (None, 26, 26, 10)        5010      \n",
      "_________________________________________________________________\n",
      "conv2d_transpose_3 (Conv2DTr (None, 28, 28, 1)         91        \n",
      "=================================================================\n",
      "Total params: 7,801.0\n",
      "Trainable params: 7,801.0\n",
      "Non-trainable params: 0.0\n",
      "_________________________________________________________________\n"
     ]
    },
    {
     "name": "stderr",
     "output_type": "stream",
     "text": [
      "/home/cfcv/Tensorflow/ML/local/lib/python3.5/site-packages/ipykernel_launcher.py:40: UserWarning: Update your `Model` call to the Keras 2 API: `Model(inputs=Tensor(\"in..., outputs=Tensor(\"co...)`\n"
     ]
    }
   ],
   "source": [
    "import keras\n",
    "\n",
    "input_layer = keras.layers.Input((28, 28, 1))\n",
    "conv_1 = keras.layers.convolutional.Conv2D(10, (5, 5), strides=(1,1), activation='relu', \n",
    "                                            kernel_initializer='glorot_normal')(input_layer)\n",
    "\n",
    "pool_1 = keras.layers.MaxPooling2D(pool_size=(2,2))(conv_1)\n",
    "\n",
    "conv_2 = keras.layers.convolutional.Conv2D(20, (2, 2), strides=(1, 1), activation='relu',\n",
    "                                            kernel_initializer='glorot_normal')(pool_1)\n",
    "\n",
    "pool_2 = keras.layers.MaxPooling2D(pool_size=(2,2))(conv_2)\n",
    "\n",
    "#encoding\n",
    "\n",
    "up_1 = keras.layers.UpSampling2D(size=(2,2))(pool_2)\n",
    "\n",
    "convt_1 = keras.layers.Conv2DTranspose(20, (2, 2), strides=(1,1), activation='relu',\n",
    "                                             kernel_initializer='glorot_normal')(up_1)\n",
    "\n",
    "up_2 = keras.layers.UpSampling2D(size=(2,2))(convt_1)\n",
    "\n",
    "convt_2 = keras.layers.Conv2DTranspose(10, (5, 5), strides=(1,1), activation='relu',\n",
    "                                             kernel_initializer='glorot_normal')(up_2)\n",
    "\n",
    "out = keras.layers.Conv2DTranspose(1, (3, 3), strides=(1,1), activation='sigmoid',\n",
    "                                             kernel_initializer='glorot_normal')(convt_2)\n",
    "    \n",
    "model = keras.models.Model(input=input_layer, output=out)\n",
    "model.compile(optimizer='adam', loss='binary_crossentropy')\n",
    "model.summary()"
   ]
  },
  {
   "cell_type": "markdown",
   "metadata": {},
   "source": [
    "## Training the model "
   ]
  },
  {
   "cell_type": "code",
   "execution_count": 53,
   "metadata": {},
   "outputs": [
    {
     "name": "stdout",
     "output_type": "stream",
     "text": [
      "Train on 60000 samples, validate on 10000 samples\n",
      "Epoch 1/5\n",
      "59968/60000 [============================>.] - ETA: 0s - loss: 0.1037Epoch 00000: val_loss improved from inf to 0.10307, saving model to saved_models/weights.best.keras.hdf5\n",
      "60000/60000 [==============================] - 117s - loss: 0.1037 - val_loss: 0.1031\n",
      "Epoch 2/5\n",
      "59968/60000 [============================>.] - ETA: 0s - loss: 0.1029Epoch 00001: val_loss improved from 0.10307 to 0.10162, saving model to saved_models/weights.best.keras.hdf5\n",
      "60000/60000 [==============================] - 105s - loss: 0.1029 - val_loss: 0.1016\n",
      "Epoch 3/5\n",
      "59968/60000 [============================>.] - ETA: 0s - loss: 0.1024Epoch 00002: val_loss improved from 0.10162 to 0.10103, saving model to saved_models/weights.best.keras.hdf5\n",
      "60000/60000 [==============================] - 107s - loss: 0.1024 - val_loss: 0.1010\n",
      "Epoch 4/5\n",
      "59968/60000 [============================>.] - ETA: 1s - loss: 0.1019Epoch 00003: val_loss improved from 0.10103 to 0.10070, saving model to saved_models/weights.best.keras.hdf5\n",
      "60000/60000 [==============================] - 2507s - loss: 0.1019 - val_loss: 0.1007\n",
      "Epoch 5/5\n",
      "59968/60000 [============================>.] - ETA: 0s - loss: 0.1015Epoch 00004: val_loss improved from 0.10070 to 0.10025, saving model to saved_models/weights.best.keras.hdf5\n",
      "60000/60000 [==============================] - 102s - loss: 0.1015 - val_loss: 0.1002\n"
     ]
    },
    {
     "data": {
      "text/plain": [
       "<keras.callbacks.History at 0x7f2b2452c198>"
      ]
     },
     "execution_count": 53,
     "metadata": {},
     "output_type": "execute_result"
    }
   ],
   "source": [
    "from keras.callbacks import ModelCheckpoint\n",
    "\n",
    "epochs = 5\n",
    "checkpointer = ModelCheckpoint(filepath='saved_models/weights.best.keras.hdf5',\n",
    "                              verbose=1, save_best_only=True)\n",
    "\n",
    "model.fit(x_train_noisy, x_train,\n",
    "          validation_data=(x_test_noisy, x_test),\n",
    "          epochs=epochs, batch_size=32, callbacks=[checkpointer], verbose=1)"
   ]
  },
  {
   "cell_type": "markdown",
   "metadata": {},
   "source": [
    "## Viewing the results "
   ]
  },
  {
   "cell_type": "code",
   "execution_count": 9,
   "metadata": {},
   "outputs": [],
   "source": [
    "model.load_weights('saved_models/weights.best.keras.hdf5')"
   ]
  },
  {
   "cell_type": "code",
   "execution_count": 27,
   "metadata": {},
   "outputs": [
    {
     "data": {
      "image/png": "[encoded data removed]",
      "text/plain": [
       "<Figure size 720x720 with 6 Axes>"
      ]
     },
     "metadata": {
      "needs_background": "light"
     },
     "output_type": "display_data"
    }
   ],
   "source": [
    "import matplotlib.pyplot as plt\n",
    "import random\n",
    "\n",
    "fig = plt.figure(figsize=(10,10))\n",
    "random_index = []\n",
    "random_index.append(random.randint(0, len(x_test_noisy)))\n",
    "random_index.append(random.randint(0, len(x_test_noisy)))\n",
    "random_index.append(random.randint(0, len(x_test_noisy)))\n",
    "\n",
    "for i in range(len(random_index)):\n",
    "    ax = fig.add_subplot(2, 3, i+1)\n",
    "    ax2 = fig.add_subplot(2, 3, i+4)\n",
    "    predict = model.predict(np.expand_dims(np.array(x_test_noisy[random_index[i]]), axis=0))\n",
    "    ax2.set_title('Output')\n",
    "    ax2.imshow(predict.reshape((28,28)), cmap='gray')\n",
    "    ax.set_title('Noisy input: ' + str(y_train[i]))\n",
    "    ax.imshow(x_test_noisy[random_index[i]].reshape((28,28)), cmap='gray')"
   ]
  }
 ],
 "metadata": {
  "kernelspec": {
   "display_name": "Python 3",
   "language": "python",
   "name": "python3"
  },
  "language_info": {
   "codemirror_mode": {
    "name": "ipython",
    "version": 3
   },
   "file_extension": ".py",
   "mimetype": "text/x-python",
   "name": "python",
   "nbconvert_exporter": "python",
   "pygments_lexer": "ipython3",
   "version": "3.5.2"
  }
 },
 "nbformat": 4,
 "nbformat_minor": 2
}
